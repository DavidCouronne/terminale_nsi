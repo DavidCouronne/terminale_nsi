{
 "cells": [
  {
   "cell_type": "markdown",
   "id": "992f55b5-0b39-4b14-9d81-a0a61280c034",
   "metadata": {},
   "source": [
    "# 2023- Sujet 2"
   ]
  },
  {
   "cell_type": "markdown",
   "id": "c1c2e429-0b90-4c60-a293-175c82557314",
   "metadata": {},
   "source": [
    "## Exercice 1\n",
    "\n",
    "Écrire une fonction `indices_maxi` qui prend qui prend en paramètre une liste `tab`, non vide, de\n",
    "nombres entiers et renvoie un couple donnant d’une part le plus grand élément de cette\n",
    "liste et d’autre part la liste des indices de la liste `tab` où apparaît ce plus grand élément.\n",
    "\n",
    "Exemple :\n",
    "```python\n",
    ">>> indices_maxi([1, 5, 6, 9, 1, 2, 3, 7, 9, 8])\n",
    "(9, [3, 8])\n",
    ">>> indices_maxi([7])\n",
    "(7, [0])\n",
    "```"
   ]
  },
  {
   "cell_type": "code",
   "execution_count": null,
   "id": "200b3d06-2089-471c-ad1f-6c05f1068734",
   "metadata": {},
   "outputs": [],
   "source": []
  },
  {
   "cell_type": "markdown",
   "id": "0a9e2da8-5de5-4315-a346-a358269d156f",
   "metadata": {},
   "source": [
    "## Exercice 2\n",
    "\n",
    "Cet exercice utilise des piles qui seront représentées en Python par des listes (type `list`).\n",
    "\n",
    "On rappelle que l’expression `liste_1 = list(liste)` fait une copie de `liste `indépendante de `liste`, que\n",
    "l’expression `x = liste.pop()` enlève le sommet de la pile `liste` et le place dans la variable `x` et,\n",
    "enfin, que l’expression `liste.append(v)` place la valeur `v` au sommet de la pile `liste`.\n",
    "\n",
    "Compléter le code Python de la fonction `positif` ci-dessous qui prend une pile `liste` de\n",
    "nombres entiers en paramètre et qui renvoie la pile des entiers positifs dans le même\n",
    "ordre, sans modifier la variable `liste`.\n",
    "\n",
    "\n"
   ]
  },
  {
   "cell_type": "code",
   "execution_count": null,
   "id": "99749f85-3206-45f2-9336-316db8a59aae",
   "metadata": {},
   "outputs": [],
   "source": [
    "def positif(pile):\n",
    "    pile_1 = ...(pile)\n",
    "    pile_2 = ...\n",
    "    while pile_1 != []:\n",
    "        x = ...\n",
    "        if ... >= 0:\n",
    "            pile_2.append(...)\n",
    "    while pile_2 != ...:\n",
    "        x = pile_2.pop()\n",
    "        ...\n",
    "    return pile_1"
   ]
  },
  {
   "cell_type": "markdown",
   "id": "1c0106e2-f4d8-41fb-a0a7-c3bebfd2246e",
   "metadata": {},
   "source": [
    "Exemple :\n",
    "```python\n",
    ">>> positif([-1, 0, 5, -3, 4, -6, 10, 9, -8])\n",
    "[0, 5, 4, 10, 9]\n",
    ">>> positif([-2])\n",
    "[]\n",
    "```"
   ]
  },
  {
   "cell_type": "code",
   "execution_count": null,
   "id": "e1bba4be-7880-4c7f-a6f6-32e8bea1febe",
   "metadata": {},
   "outputs": [],
   "source": []
  }
 ],
 "metadata": {
  "kernelspec": {
   "display_name": "Python 3 (ipykernel)",
   "language": "python",
   "name": "python3"
  },
  "language_info": {
   "codemirror_mode": {
    "name": "ipython",
    "version": 3
   },
   "file_extension": ".py",
   "mimetype": "text/x-python",
   "name": "python",
   "nbconvert_exporter": "python",
   "pygments_lexer": "ipython3",
   "version": "3.10.8"
  }
 },
 "nbformat": 4,
 "nbformat_minor": 5
}
