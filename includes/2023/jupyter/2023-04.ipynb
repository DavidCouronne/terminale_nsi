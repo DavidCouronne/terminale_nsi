{
 "cells": [
  {
   "cell_type": "markdown",
   "id": "03a52956-3d59-4098-ac94-0ff67d30f894",
   "metadata": {},
   "source": [
    "# 2023 - Sujet 4"
   ]
  },
  {
   "cell_type": "markdown",
   "id": "5b3cce8b-fdda-4166-8dbd-eb6b6bc751aa",
   "metadata": {},
   "source": [
    "## Exercice 1\n",
    "\n",
    "Écrire une fonction `a_doublon` qui prend en paramètre une liste **triée** de nombres et\n",
    "renvoie `True` si la liste contient au moins deux nombres identiques, `False` sinon.\n",
    "\n",
    "Par exemple :\n",
    "\n",
    "```python\n",
    ">>> a_doublon([])\n",
    "False\n",
    ">>> a_doublon([1])\n",
    "False\n",
    ">>> a_doublon([1, 2, 4, 6, 6])\n",
    "True\n",
    ">>> a_doublon([2, 5, 7, 7, 7, 9])\n",
    "True\n",
    ">>> a_doublon([0, 2, 3])\n",
    "False\n",
    "```"
   ]
  },
  {
   "cell_type": "code",
   "execution_count": null,
   "id": "b00f3af9-b79f-41d3-a394-6db9838b5cd4",
   "metadata": {},
   "outputs": [],
   "source": []
  },
  {
   "attachments": {
    "36575907-8be4-45c8-9f59-964e5a8d7bd0.png": {
     "image/png": "[encoded data removed]"
    }
   },
   "cell_type": "markdown",
   "id": "a2478da3-eac5-4c73-8a39-801387a63d28",
   "metadata": {},
   "source": [
    "## Exercice 2\n",
    "\n",
    "On souhaite générer des grilles du jeu de démineur à partir de la position des bombes à\n",
    "placer.  \n",
    "On se limite à la génération de grilles carrées de taille $n \\times n$ où $n$ est le nombre de bombes du jeu.  \n",
    "\n",
    "Dans le jeu du démineur, chaque case de la grille contient soit une bombe, soit une valeur\n",
    "qui correspond aux nombres de bombes situées dans le voisinage direct de la case (au-\n",
    "dessus, en dessous, à droite, à gauche ou en diagonale : chaque case a donc 8 voisins si\n",
    "elle n'est pas située au bord de la grille).\n",
    "\n",
    "Voici un exemple de grille $5 \\times 5$ de démineur dans laquelle la bombe est représentée par une étoile :\n",
    "\n",
    "\n",
    "\n",
    "![04grille.png](attachment:36575907-8be4-45c8-9f59-964e5a8d7bd0.png)\n",
    "\n",
    "\n",
    "On utilise une liste de listes pour représenter la grille et on choisit de coder une bombe par la valeur -1.\n",
    "\n",
    "L'exemple ci-contre sera donc codé par la liste :\n",
    "\n",
    "```python\n",
    "[[1, 1, 1, 0, 0],\n",
    "[1, -1, 1, 1, 1],\n",
    "[2, 2, 3, 2, -1],\n",
    "[1, -1, 2, -1, 3],\n",
    "[1, 1, 2, 2, -1]]\n",
    "```\n",
    "\n",
    "Compléter le code suivant afin de générer des grilles de démineur, on pourra vérifier que\n",
    "l’instruction `genere_grille([(1, 1), (2, 4), (3, 1), (3, 3), (4, 4)])`\n",
    "produit bien la liste donnée en exemple.\n",
    "\n",
    "\n",
    "\n",
    "\n"
   ]
  },
  {
   "cell_type": "code",
   "execution_count": null,
   "id": "00f6c966-f6ed-45a0-85f1-e381fd7cf495",
   "metadata": {},
   "outputs": [],
   "source": [
    "def voisinage(n, ligne, colonne):\n",
    "    \"\"\"Renvoie la liste des coordonnées des voisins de la case\n",
    "    (ligne, colonne) en gérant les cases sur les bords.\"\"\"\n",
    "    voisins = []\n",
    "    for l in range(max(0, ligne - 1), min(n, ligne + 2)):\n",
    "        for c in range(max(0, colonne - 1), min(n, colonne + 2)):\n",
    "            if (l, c) != (ligne, colonne):\n",
    "                voisins.append((l, c))\n",
    "    return voisins\n",
    "\n",
    "\n",
    "def incremente_voisins(grille, ligne, colonne):\n",
    "    \"\"\"Incrémente de 1 toutes les cases voisines d'une bombe.\"\"\"\n",
    "    voisins = ...\n",
    "    for l, c in voisins:\n",
    "        if grille[l][c] != ...:  # si ce n'est pas une bombe\n",
    "            ...  # on ajoute 1 à sa valeur\n",
    "\n",
    "\n",
    "def genere_grille(bombes):\n",
    "    \"\"\"Renvoie une grille de démineur de taille nxn où n est\n",
    "    le nombre de bombes, en plaçant les bombes à l'aide de\n",
    "    la liste bombes de coordonnées (tuples) passée en\n",
    "    paramètre.\"\"\"\n",
    "    n = len(bombes)\n",
    "    # Initialisation d'une grille nxn remplie de 0\n",
    "    grille = [[0 for colonne in range(n)] for ligne in range(n)]\n",
    "    # Place les bombes et calcule les valeurs des autres cases\n",
    "    for ligne, colonne in bombes:\n",
    "        grille[ligne][colonne] = ...  # place la bombe\n",
    "        ...  # incrémente ses voisins\n",
    "\n",
    "    return grille"
   ]
  }
 ],
 "metadata": {
  "kernelspec": {
   "display_name": "Python 3 (ipykernel)",
   "language": "python",
   "name": "python3"
  },
  "language_info": {
   "codemirror_mode": {
    "name": "ipython",
    "version": 3
   },
   "file_extension": ".py",
   "mimetype": "text/x-python",
   "name": "python",
   "nbconvert_exporter": "python",
   "pygments_lexer": "ipython3",
   "version": "3.10.8"
  }
 },
 "nbformat": 4,
 "nbformat_minor": 5
}
