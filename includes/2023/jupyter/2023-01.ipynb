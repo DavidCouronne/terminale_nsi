{
 "cells": [
  {
   "cell_type": "markdown",
   "metadata": {},
   "source": [
    "# 2023 - Sujet 1"
   ]
  },
  {
   "cell_type": "markdown",
   "metadata": {},
   "source": [
    "## Exercice 1\n",
    "\n",
    "\n",
    "Programmer la fonction `verifie` qui prend en paramètre un tableau de valeurs numériques non\n",
    "vide et qui renvoie `True` si ce tableau est trié dans l’ordre croissant, `False` sinon.\n",
    "\n",
    "Exemples :\n",
    "\n",
    "```python\n",
    "Exemples :\n",
    ">>> verifie([0, 5, 8, 8, 9])\n",
    "True\n",
    ">>> verifie([8, 12, 4])\n",
    "False\n",
    ">>> verifie([-1, 4])\n",
    "True\n",
    ">>> verifie([5])\n",
    "True\n",
    "```\n",
    "\n"
   ]
  },
  {
   "cell_type": "code",
   "execution_count": null,
   "metadata": {},
   "outputs": [],
   "source": []
  },
  {
   "cell_type": "markdown",
   "metadata": {},
   "source": [
    "## Exercice 2\n",
    "\n",
    "Les résultats d'un vote ayant trois issues possibles 'A', 'B' et 'C' sont stockés dans un tableau.\n",
    "\n",
    "Exemple :\n",
    "\n",
    "```python\n",
    "urne = ['A', 'A', 'A', 'B', 'C', 'B', 'C', 'B', 'C', 'B']\n",
    "```\n",
    "\n",
    "La fonction `depouille` doit permettre de compter le nombre de votes exprimés pour chaque\n",
    "artiste. Elle prend en paramètre un tableau et renvoie le résultat dans un dictionnaire dont les\n",
    "clés sont les noms des artistes et les valeurs le nombre de votes en leur faveur.\n",
    "\n",
    "\n",
    "La fonction vainqueur doit désigner le nom du ou des gagnants. Elle prend en paramètre un\n",
    "dictionnaire dont la structure est celle du dictionnaire renvoyé par la fonction `depouille` et\n",
    "renvoie un tableau. Ce tableau peut donc contenir plusieurs éléments s’il y a des artistes ex-\n",
    "aequo.\n",
    "Compléter les fonctions `depouille` et vainqueur ci-après pour qu’elles renvoient les\n",
    "résultats attendus.\n",
    "\n"
   ]
  },
  {
   "cell_type": "code",
   "execution_count": null,
   "metadata": {},
   "outputs": [],
   "source": [
    "urne = [\"A\", \"A\", \"A\", \"B\", \"C\", \"B\", \"C\", \"B\", \"C\", \"B\"]\n",
    "\n",
    "\n",
    "def depouille(urne):\n",
    "    resultat = ...\n",
    "    for bulletin in urne:\n",
    "        if ...:\n",
    "            resultat[bulletin] = resultat[bulletin] + 1\n",
    "        else:\n",
    "            ...\n",
    "    return resultat\n",
    "\n",
    "\n",
    "def vainqueur(election):\n",
    "    vainqueur = \"\"\n",
    "    nmax = 0\n",
    "    for candidat in election:\n",
    "        if ... > ...:\n",
    "            nmax = ...\n",
    "            vainqueur = candidat\n",
    "    liste_finale = [nom for nom in election if election[nom] == ...]\n",
    "    return ..."
   ]
  },
  {
   "cell_type": "markdown",
   "metadata": {},
   "source": [
    "Exemples d’utilisation :\n",
    "\n",
    "```python\n",
    ">>> election = depouille(urne)\n",
    ">>> election\n",
    "{'A': 3, 'B': 4, 'C': 3}\n",
    ">>> vainqueur(election)\n",
    "['B']\n",
    "```"
   ]
  }
 ],
 "metadata": {
  "kernelspec": {
   "display_name": "Python 3 (ipykernel)",
   "language": "python",
   "name": "python3"
  },
  "language_info": {
   "codemirror_mode": {
    "name": "ipython",
    "version": 3
   },
   "file_extension": ".py",
   "mimetype": "text/x-python",
   "name": "python",
   "nbconvert_exporter": "python",
   "pygments_lexer": "ipython3",
   "version": "3.10.8"
  },
  "vscode": {
   "interpreter": {
    "hash": "c30f2af5f468e7f5b45bcc30fca5f4886c90d54777aed916ed5f6294dfb24bf2"
   }
  }
 },
 "nbformat": 4,
 "nbformat_minor": 4
}
