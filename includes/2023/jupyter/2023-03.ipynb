{
 "cells": [
  {
   "cell_type": "markdown",
   "id": "76f33a50-871c-4edd-9236-1da25c4ca6b2",
   "metadata": {},
   "source": [
    "# 2023 - Sujet 3"
   ]
  },
  {
   "cell_type": "markdown",
   "id": "85262411-d49f-4369-ac84-f5a1381c5e67",
   "metadata": {},
   "source": [
    "## Exercice 1\n",
    "\n",
    "Dans cet exercice, les nombres sont des entiers ou des flottants.\n",
    "\n",
    "\n",
    "Écrire une fonction `moyenne` renvoyant la moyenne pondérée d’une liste non vide,\n",
    "passée en paramètre, de tuples à deux éléments de la forme (`valeur`,\n",
    "`coefficient`) où `valeur` et `coefficient` sont des nombres positifs ou nuls.\n",
    "Si la somme des coefficients est nulle, la fonction renvoie `None`, si la somme des\n",
    "coefficients est non nulle, la fonction renvoie, sous forme de flottant, la moyenne des\n",
    "valeurs affectées de leur coefficient.\n",
    "\n",
    "Exemple :\n",
    "```python\n",
    ">>> moyenne([(8, 2), (12, 0), (13.5, 1), (5, 0.5)])\n",
    "9.142857142857142\n",
    ">>> moyenne([(3, 0), (5, 0)])\n",
    "None\n",
    "```\n",
    "\n",
    "Dans le premier exemple la moyenne est calculée par la formule :\n",
    "\n",
    "$\\dfrac{8 \\times 2 + 12 \\times 0 + 13,5 \\times 1 + 5 \\times 0,5}{2+0+1+0,5}$"
   ]
  },
  {
   "cell_type": "code",
   "execution_count": null,
   "id": "48d29fa7-cf6c-4038-9503-6648bc7c6b4b",
   "metadata": {},
   "outputs": [],
   "source": []
  },
  {
   "attachments": {
    "072bd1c7-7b01-4d5c-acd0-dbac48938391.png": {
     "image/png": "[encoded data removed]"
    }
   },
   "cell_type": "markdown",
   "id": "eac7fdef-6680-4d71-a290-75dec2641c1b",
   "metadata": {},
   "source": [
    "## Exercice 2\n",
    "\n",
    "![03_coeur.png](attachment:072bd1c7-7b01-4d5c-acd0-dbac48938391.png)\n",
    "\n",
    "\n",
    "On travaille sur des dessins en noir et blanc obtenu à partir de pixels noirs et blancs :\n",
    "La figure « cœur » ci-dessus va servir d’exemple.\n",
    "On la représente par une grille de nombres, c’est-à-dire par une liste composée de sous-listes de même longueurs.\n",
    "Chaque sous-liste représentera donc une ligne du dessin.\n",
    "\n",
    "Dans le code ci-dessous, la fonction `affiche` permet d’afficher le dessin. Les pixels noirs\n",
    "(1 dans la grille) seront représentés par le caractère \"*\" et les blancs (0 dans la grille) par\n",
    "deux espaces.\n",
    "\n",
    "La fonction `zoomListe` prend en argument une liste `liste_depart` et un entier `k`. Elle\n",
    "renvoie une liste où chaque élément de `liste_depart` est dupliqué `k` fois.\n",
    "\n",
    "La fonction `zoomDessin` prend en argument la grille `dessin` et renvoie une grille où\n",
    "toutes les lignes de `dessin` sont zoomées `k` fois et répétées `k` fois.\n",
    "\n",
    "Soit le code ci-dessous :\n"
   ]
  },
  {
   "cell_type": "code",
   "execution_count": null,
   "id": "5978da30-3838-44c7-98fe-f09412ae5be4",
   "metadata": {},
   "outputs": [],
   "source": [
    "coeur = [\n",
    "    [0, 0, 0, 0, 0, 0, 0, 0, 0, 0, 0, 0, 0],\n",
    "    [0, 0, 0, 1, 1, 0, 0, 0, 1, 1, 0, 0, 0],\n",
    "    [0, 0, 1, 0, 0, 1, 0, 1, 0, 0, 1, 0, 0],\n",
    "    [0, 1, 0, 0, 0, 0, 1, 0, 0, 0, 0, 1, 0],\n",
    "    [0, 1, 0, 0, 0, 0, 0, 0, 0, 0, 0, 1, 0],\n",
    "    [0, 1, 0, 0, 0, 0, 0, 0, 0, 0, 0, 1, 0],\n",
    "    [0, 0, 1, 0, 0, 0, 0, 0, 0, 0, 1, 0, 0],\n",
    "    [0, 0, 0, 1, 0, 0, 0, 0, 0, 1, 0, 0, 0],\n",
    "    [0, 0, 0, 0, 1, 0, 0, 0, 1, 0, 0, 0, 0],\n",
    "    [0, 0, 0, 0, 0, 1, 0, 1, 0, 0, 0, 0, 0],\n",
    "    [0, 0, 0, 0, 0, 0, 1, 0, 0, 0, 0, 0, 0],\n",
    "    [0, 0, 0, 0, 0, 0, 0, 0, 0, 0, 0, 0, 0],\n",
    "]\n",
    "\n",
    "\n",
    "def affiche(dessin):\n",
    "    '''affichage d'une grille : les 1 sont représentés par\n",
    "    des \" *\" , les 0 par deux espaces \"  \"'''\n",
    "    for ligne in dessin:\n",
    "        for col in ligne:\n",
    "            if col == 1:\n",
    "                print(\" *\", end=\"\")\n",
    "            else:\n",
    "                print(\"  \", end=\"\")\n",
    "        print()\n",
    "\n",
    "\n",
    "def zoomListe(liste_depart, k):\n",
    "    \"\"\"renvoie une liste contenant k fois chaque\n",
    "    élément de liste_depart\"\"\"\n",
    "    liste_zoom = ...\n",
    "    for elt in ...:\n",
    "        for i in range(k):\n",
    "            ...\n",
    "    return liste_zoom\n",
    "\n",
    "\n",
    "def zoomDessin(grille, k):\n",
    "    \"\"\"renvoie une grille où les lignes sont zoomées k fois\n",
    "    ET répétées k fois\"\"\"\n",
    "    grille_zoom = []\n",
    "    for elt in grille:\n",
    "        liste_zoom = ...\n",
    "        for i in range(k):\n",
    "            ....append(...)\n",
    "    return grille_zoom"
   ]
  },
  {
   "attachments": {
    "7afc321a-8db5-48d2-b462-cd608e2f7cff.png": {
     "image/png": "[encoded data removed]"
    }
   },
   "cell_type": "markdown",
   "id": "0e7f0fdc-cdb3-4858-b2e0-83e7e1c94820",
   "metadata": {},
   "source": [
    "Résultats à obtenir :\n",
    "\n",
    "```python\n",
    ">>> affiche(coeur)\n",
    "```\n",
    "![272b.png](attachment:7afc321a-8db5-48d2-b462-cd608e2f7cff.png)\n",
    "\n",
    "```python\n",
    ">>> affiche(zoomDessin(coeur,3))\n",
    "```\n",
    "\n",
    "\n",
    "\n",
    "                * * * * * *                   * * * * * *                  \n",
    "                * * * * * *                   * * * * * *                  \n",
    "                * * * * * *                   * * * * * *                  \n",
    "          * * *             * * *       * * *             * * *            \n",
    "          * * *             * * *       * * *             * * *            \n",
    "          * * *             * * *       * * *             * * *            \n",
    "    * * *                         * * *                         * * *      \n",
    "    * * *                         * * *                         * * *      \n",
    "    * * *                         * * *                         * * *      \n",
    "    * * *                                                       * * *      \n",
    "    * * *                                                       * * *      \n",
    "    * * *                                                       * * *      \n",
    "    * * *                                                       * * *      \n",
    "    * * *                                                       * * *      \n",
    "    * * *                                                       * * *      \n",
    "          * * *                                           * * *            \n",
    "          * * *                                           * * *            \n",
    "          * * *                                           * * *            \n",
    "                * * *                               * * *                  \n",
    "                * * *                               * * *                  \n",
    "                * * *                               * * *                  \n",
    "                      * * *                   * * *                        \n",
    "                      * * *                   * * *                        \n",
    "                      * * *                   * * *                        \n",
    "                            * * *       * * *                              \n",
    "                            * * *       * * *                              \n",
    "                            * * *       * * *                              \n",
    "                                  * * *                                    \n",
    "                                  * * *                                    \n",
    "                                  * * *                                    \n",
    "\n",
    "\n"
   ]
  },
  {
   "cell_type": "code",
   "execution_count": null,
   "id": "ff6ead00-fbcd-479f-837a-d13bc8a7b742",
   "metadata": {},
   "outputs": [],
   "source": []
  }
 ],
 "metadata": {
  "kernelspec": {
   "display_name": "Python 3 (ipykernel)",
   "language": "python",
   "name": "python3"
  },
  "language_info": {
   "codemirror_mode": {
    "name": "ipython",
    "version": 3
   },
   "file_extension": ".py",
   "mimetype": "text/x-python",
   "name": "python",
   "nbconvert_exporter": "python",
   "pygments_lexer": "ipython3",
   "version": "3.10.8"
  }
 },
 "nbformat": 4,
 "nbformat_minor": 5
}
